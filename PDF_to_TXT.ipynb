{
  "nbformat": 4,
  "nbformat_minor": 0,
  "metadata": {
    "colab": {
      "provenance": []
    },
    "kernelspec": {
      "name": "python3",
      "display_name": "Python 3"
    },
    "language_info": {
      "name": "python"
    }
  },
  "cells": [
    {
      "cell_type": "code",
      "execution_count": null,
      "metadata": {
        "colab": {
          "base_uri": "https://localhost:8080/"
        },
        "id": "WQcEiFgJV3WI",
        "outputId": "5dbdbc3c-3e17-405c-fd0c-972c8301793d"
      },
      "outputs": [
        {
          "output_type": "stream",
          "name": "stdout",
          "text": [
            "Collecting pdfplumber\n",
            "  Downloading pdfplumber-0.11.6-py3-none-any.whl.metadata (42 kB)\n",
            "\u001b[2K     \u001b[90m━━━━━━━━━━━━━━━━━━━━━━━━━━━━━━━━━━━━━━━\u001b[0m \u001b[32m42.8/42.8 kB\u001b[0m \u001b[31m218.4 kB/s\u001b[0m eta \u001b[36m0:00:00\u001b[0m\n",
            "\u001b[?25hCollecting pdfminer.six==20250327 (from pdfplumber)\n",
            "  Downloading pdfminer_six-20250327-py3-none-any.whl.metadata (4.1 kB)\n",
            "Requirement already satisfied: Pillow>=9.1 in /usr/local/lib/python3.11/dist-packages (from pdfplumber) (11.2.1)\n",
            "Collecting pypdfium2>=4.18.0 (from pdfplumber)\n",
            "  Downloading pypdfium2-4.30.1-py3-none-manylinux_2_17_x86_64.manylinux2014_x86_64.whl.metadata (48 kB)\n",
            "\u001b[2K     \u001b[90m━━━━━━━━━━━━━━━━━━━━━━━━━━━━━━━━━━━━━━━\u001b[0m \u001b[32m48.2/48.2 kB\u001b[0m \u001b[31m591.9 kB/s\u001b[0m eta \u001b[36m0:00:00\u001b[0m\n",
            "\u001b[?25hRequirement already satisfied: charset-normalizer>=2.0.0 in /usr/local/lib/python3.11/dist-packages (from pdfminer.six==20250327->pdfplumber) (3.4.1)\n",
            "Requirement already satisfied: cryptography>=36.0.0 in /usr/local/lib/python3.11/dist-packages (from pdfminer.six==20250327->pdfplumber) (43.0.3)\n",
            "Requirement already satisfied: cffi>=1.12 in /usr/local/lib/python3.11/dist-packages (from cryptography>=36.0.0->pdfminer.six==20250327->pdfplumber) (1.17.1)\n",
            "Requirement already satisfied: pycparser in /usr/local/lib/python3.11/dist-packages (from cffi>=1.12->cryptography>=36.0.0->pdfminer.six==20250327->pdfplumber) (2.22)\n",
            "Downloading pdfplumber-0.11.6-py3-none-any.whl (60 kB)\n",
            "\u001b[2K   \u001b[90m━━━━━━━━━━━━━━━━━━━━━━━━━━━━━━━━━━━━━━━━\u001b[0m \u001b[32m60.2/60.2 kB\u001b[0m \u001b[31m3.0 MB/s\u001b[0m eta \u001b[36m0:00:00\u001b[0m\n",
            "\u001b[?25hDownloading pdfminer_six-20250327-py3-none-any.whl (5.6 MB)\n",
            "\u001b[2K   \u001b[90m━━━━━━━━━━━━━━━━━━━━━━━━━━━━━━━━━━━━━━━━\u001b[0m \u001b[32m5.6/5.6 MB\u001b[0m \u001b[31m28.5 MB/s\u001b[0m eta \u001b[36m0:00:00\u001b[0m\n",
            "\u001b[?25hDownloading pypdfium2-4.30.1-py3-none-manylinux_2_17_x86_64.manylinux2014_x86_64.whl (2.9 MB)\n",
            "\u001b[2K   \u001b[90m━━━━━━━━━━━━━━━━━━━━━━━━━━━━━━━━━━━━━━━━\u001b[0m \u001b[32m2.9/2.9 MB\u001b[0m \u001b[31m26.4 MB/s\u001b[0m eta \u001b[36m0:00:00\u001b[0m\n",
            "\u001b[?25hInstalling collected packages: pypdfium2, pdfminer.six, pdfplumber\n",
            "Successfully installed pdfminer.six-20250327 pdfplumber-0.11.6 pypdfium2-4.30.1\n"
          ]
        }
      ],
      "source": [
        "!pip install pdfplumber"
      ]
    },
    {
      "cell_type": "code",
      "source": [
        "import re\n",
        "from pathlib import Path\n",
        "import pdfplumber"
      ],
      "metadata": {
        "id": "n6s1ntenWbVO"
      },
      "execution_count": null,
      "outputs": []
    },
    {
      "cell_type": "code",
      "source": [
        "def extraer_texto(pdf_path, margen=10):\n",
        "    textos=[]\n",
        "    with pdfplumber.open(pdf_path) as pdf:\n",
        "        for page in pdf.pages:\n",
        "            txt=page.extract_text() or \"\"\n",
        "            textos.append(txt)\n",
        "    return \"\\n\\n\".join(textos)\n",
        "\n",
        "def procesar_tabla(lineas_tabla):\n",
        "    filas=[[c.strip() for c in l.split(\"\\t\")] for l in lineas_tabla if l.strip()]\n",
        "    if not filas:\n",
        "        return \"\"\n",
        "    return \"\\n\".join(\" \".join(f) for f in filas)\n",
        "\n",
        "def limpiar_texto(texto):\n",
        "    lineas=texto.splitlines()\n",
        "    parrafos=[]\n",
        "    par_act=\"\"\n",
        "    tabla_block=[]\n",
        "    def _flush_parrafo():\n",
        "        nonlocal par_act\n",
        "        if par_act.strip():\n",
        "            parrafos.append(par_act.strip())\n",
        "            par_act=\"\"\n",
        "    def _flush_tabla():\n",
        "        nonlocal tabla_block\n",
        "        if tabla_block:\n",
        "            tab=procesar_tabla(tabla_block)\n",
        "            if tab:\n",
        "                parrafos.append(tab)\n",
        "            tabla_block=[]\n",
        "    for l in lineas:\n",
        "        l=l.strip()\n",
        "        if (not l\n",
        "            or re.fullmatch(r\"[.\\-_,\\s]{3,}\",l)\n",
        "            or re.search(r\"\\bPágina\\s*\\d+\",l,re.IGNORECASE)\n",
        "            or \"continúa en la página siguiente\" in l.lower()\n",
        "            or re.match(r\"^https?://\",l)\n",
        "            or re.match(r\"^\\d+\\s*$\",l)\n",
        "        ):\n",
        "            continue\n",
        "        l=re.sub(r\"\\.{3,}\\s*\\d+\\s*$\",\"\",l)\n",
        "        if \"\\t\" in l:\n",
        "            _flush_parrafo()\n",
        "            tabla_block.append(l)\n",
        "            continue\n",
        "        else:\n",
        "            _flush_tabla()\n",
        "        if par_act and l and l[0].isupper() and par_act.rstrip()[-1] not in \".:?!»\":\n",
        "            _flush_parrafo()\n",
        "        par_act=f\"{par_act} {l}\".strip() if par_act else l\n",
        "        if l.endswith((\".\",\":\",\"?\",\"!\",\"»\")):\n",
        "            _flush_parrafo()\n",
        "    _flush_tabla()\n",
        "    _flush_parrafo()\n",
        "    return \"\\n\\n\".join(parrafos)\n",
        "\n",
        "def eliminar_dobles_espacios(texto):\n",
        "    return re.sub(r\" {2,}\",\" \",texto)\n",
        "\n",
        "def pdf_a_txt_limpio(pdf_path, txt_path):\n",
        "    raw=extraer_texto(pdf_path)\n",
        "    clean=limpiar_texto(raw)\n",
        "    final=eliminar_dobles_espacios(clean)\n",
        "    Path(txt_path).write_text(final,encoding=\"utf-8\")\n",
        "\n",
        "PDF_ENTRADA=\"gsk-214094-plain-language-summary-part 1-eses.pdf\"\n",
        "TXT_SALIDA =\"gsk-214094-plain-language-summary-part 1-eses_LIMPIO.txt\"\n",
        "pdf_a_txt_limpio(PDF_ENTRADA,TXT_SALIDA)"
      ],
      "metadata": {
        "id": "VgUwP4dEWdJM",
        "colab": {
          "base_uri": "https://localhost:8080/"
        },
        "outputId": "3ce3e970-fa82-43e6-fae5-0302553cfeeb"
      },
      "execution_count": null,
      "outputs": [
        {
          "output_type": "stream",
          "name": "stderr",
          "text": [
            "WARNING:pdfminer.pdfpage:CropBox missing from /Page, defaulting to MediaBox\n",
            "WARNING:pdfminer.pdfpage:CropBox missing from /Page, defaulting to MediaBox\n",
            "WARNING:pdfminer.pdfpage:CropBox missing from /Page, defaulting to MediaBox\n",
            "WARNING:pdfminer.pdfpage:CropBox missing from /Page, defaulting to MediaBox\n",
            "WARNING:pdfminer.pdfpage:CropBox missing from /Page, defaulting to MediaBox\n",
            "WARNING:pdfminer.pdfpage:CropBox missing from /Page, defaulting to MediaBox\n",
            "WARNING:pdfminer.pdfpage:CropBox missing from /Page, defaulting to MediaBox\n",
            "WARNING:pdfminer.pdfpage:CropBox missing from /Page, defaulting to MediaBox\n",
            "WARNING:pdfminer.pdfpage:CropBox missing from /Page, defaulting to MediaBox\n",
            "WARNING:pdfminer.pdfpage:CropBox missing from /Page, defaulting to MediaBox\n",
            "WARNING:pdfminer.pdfpage:CropBox missing from /Page, defaulting to MediaBox\n",
            "WARNING:pdfminer.pdfpage:CropBox missing from /Page, defaulting to MediaBox\n",
            "WARNING:pdfminer.pdfpage:CropBox missing from /Page, defaulting to MediaBox\n",
            "WARNING:pdfminer.pdfpage:CropBox missing from /Page, defaulting to MediaBox\n",
            "WARNING:pdfminer.pdfpage:CropBox missing from /Page, defaulting to MediaBox\n",
            "WARNING:pdfminer.pdfpage:CropBox missing from /Page, defaulting to MediaBox\n"
          ]
        }
      ]
    }
  ]
}